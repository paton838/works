{
  "nbformat": 4,
  "nbformat_minor": 0,
  "metadata": {
    "colab": {
      "name": "titanic_analysis",
      "provenance": [],
      "collapsed_sections": [],
      "authorship_tag": "ABX9TyMahGiPUILS6Qa6Ad6er+br",
      "include_colab_link": true
    },
    "kernelspec": {
      "name": "python3",
      "display_name": "Python 3"
    }
  },
  "cells": [
    {
      "cell_type": "markdown",
      "metadata": {
        "id": "view-in-github",
        "colab_type": "text"
      },
      "source": [
        "<a href=\"https://colab.research.google.com/github/paton838/works/blob/master/data-science/titanic/titanic_analysis.ipynb\" target=\"_parent\"><img src=\"https://colab.research.google.com/assets/colab-badge.svg\" alt=\"Open In Colab\"/></a>"
      ]
    },
    {
      "cell_type": "markdown",
      "metadata": {
        "id": "XK-Futup_Vtq",
        "colab_type": "text"
      },
      "source": [
        "In this notebook, we will analysis what factors will make an impact of the the Survival rate in the following steps:\n",
        "- Preliminary analysis of the dataset\n",
        "- Analyse the correlation between survival vs other factors\n",
        "\n",
        "This analysis will help us to detemine what features should be selected/engineered for the machine learning model to make prediction on survival."
      ]
    },
    {
      "cell_type": "code",
      "metadata": {
        "id": "syga2SVihk1m",
        "colab_type": "code",
        "colab": {}
      },
      "source": [
        "# Source: https://www.kaggle.com/c/titanic"
      ],
      "execution_count": 0,
      "outputs": []
    },
    {
      "cell_type": "code",
      "metadata": {
        "id": "0oc_lzqOgROD",
        "colab_type": "code",
        "colab": {}
      },
      "source": [
        "import pandas as pd\n",
        "import numpy as np\n",
        "import re as re\n",
        "import matplotlib.pyplot as plt\n",
        "import seaborn as sns"
      ],
      "execution_count": 0,
      "outputs": []
    },
    {
      "cell_type": "code",
      "metadata": {
        "id": "FiUSdle_gW0L",
        "colab_type": "code",
        "colab": {}
      },
      "source": [
        "# read in the data\n",
        "train = pd.read_csv(\"./train.csv\")"
      ],
      "execution_count": 0,
      "outputs": []
    },
    {
      "cell_type": "code",
      "metadata": {
        "id": "4JjwQPYEgbUR",
        "colab_type": "code",
        "colab": {}
      },
      "source": [
        "# get the dataset for analysis\n",
        "df = train"
      ],
      "execution_count": 0,
      "outputs": []
    },
    {
      "cell_type": "code",
      "metadata": {
        "id": "kc_E7_kGgvkr",
        "colab_type": "code",
        "outputId": "6caa1fa5-f86d-4b71-92a8-ba66e87bfd28",
        "colab": {
          "base_uri": "https://localhost:8080/",
          "height": 340
        }
      },
      "source": [
        "df.info()"
      ],
      "execution_count": 394,
      "outputs": [
        {
          "output_type": "stream",
          "text": [
            "<class 'pandas.core.frame.DataFrame'>\n",
            "RangeIndex: 891 entries, 0 to 890\n",
            "Data columns (total 12 columns):\n",
            " #   Column       Non-Null Count  Dtype  \n",
            "---  ------       --------------  -----  \n",
            " 0   PassengerId  891 non-null    int64  \n",
            " 1   Survived     891 non-null    int64  \n",
            " 2   Pclass       891 non-null    int64  \n",
            " 3   Name         891 non-null    object \n",
            " 4   Sex          891 non-null    object \n",
            " 5   Age          714 non-null    float64\n",
            " 6   SibSp        891 non-null    int64  \n",
            " 7   Parch        891 non-null    int64  \n",
            " 8   Ticket       891 non-null    object \n",
            " 9   Fare         891 non-null    float64\n",
            " 10  Cabin        204 non-null    object \n",
            " 11  Embarked     889 non-null    object \n",
            "dtypes: float64(2), int64(5), object(5)\n",
            "memory usage: 83.7+ KB\n"
          ],
          "name": "stdout"
        }
      ]
    },
    {
      "cell_type": "markdown",
      "metadata": {
        "id": "dL9nY4lX7Naq",
        "colab_type": "text"
      },
      "source": [
        "There are a lot of missing data in the Cabin column. \n",
        "If we use this as a feature for prediction, we will need to impute a lot of data into it, hence the prediction using this feature will not be very reliable.\n"
      ]
    },
    {
      "cell_type": "code",
      "metadata": {
        "id": "7PgIYQditewX",
        "colab_type": "code",
        "outputId": "53588b18-d9fe-41bb-a849-0119ff582354",
        "colab": {
          "base_uri": "https://localhost:8080/",
          "height": 297
        }
      },
      "source": [
        "df.describe()"
      ],
      "execution_count": 395,
      "outputs": [
        {
          "output_type": "execute_result",
          "data": {
            "text/html": [
              "<div>\n",
              "<style scoped>\n",
              "    .dataframe tbody tr th:only-of-type {\n",
              "        vertical-align: middle;\n",
              "    }\n",
              "\n",
              "    .dataframe tbody tr th {\n",
              "        vertical-align: top;\n",
              "    }\n",
              "\n",
              "    .dataframe thead th {\n",
              "        text-align: right;\n",
              "    }\n",
              "</style>\n",
              "<table border=\"1\" class=\"dataframe\">\n",
              "  <thead>\n",
              "    <tr style=\"text-align: right;\">\n",
              "      <th></th>\n",
              "      <th>PassengerId</th>\n",
              "      <th>Survived</th>\n",
              "      <th>Pclass</th>\n",
              "      <th>Age</th>\n",
              "      <th>SibSp</th>\n",
              "      <th>Parch</th>\n",
              "      <th>Fare</th>\n",
              "    </tr>\n",
              "  </thead>\n",
              "  <tbody>\n",
              "    <tr>\n",
              "      <th>count</th>\n",
              "      <td>891.000000</td>\n",
              "      <td>891.000000</td>\n",
              "      <td>891.000000</td>\n",
              "      <td>714.000000</td>\n",
              "      <td>891.000000</td>\n",
              "      <td>891.000000</td>\n",
              "      <td>891.000000</td>\n",
              "    </tr>\n",
              "    <tr>\n",
              "      <th>mean</th>\n",
              "      <td>446.000000</td>\n",
              "      <td>0.383838</td>\n",
              "      <td>2.308642</td>\n",
              "      <td>29.699118</td>\n",
              "      <td>0.523008</td>\n",
              "      <td>0.381594</td>\n",
              "      <td>32.204208</td>\n",
              "    </tr>\n",
              "    <tr>\n",
              "      <th>std</th>\n",
              "      <td>257.353842</td>\n",
              "      <td>0.486592</td>\n",
              "      <td>0.836071</td>\n",
              "      <td>14.526497</td>\n",
              "      <td>1.102743</td>\n",
              "      <td>0.806057</td>\n",
              "      <td>49.693429</td>\n",
              "    </tr>\n",
              "    <tr>\n",
              "      <th>min</th>\n",
              "      <td>1.000000</td>\n",
              "      <td>0.000000</td>\n",
              "      <td>1.000000</td>\n",
              "      <td>0.420000</td>\n",
              "      <td>0.000000</td>\n",
              "      <td>0.000000</td>\n",
              "      <td>0.000000</td>\n",
              "    </tr>\n",
              "    <tr>\n",
              "      <th>25%</th>\n",
              "      <td>223.500000</td>\n",
              "      <td>0.000000</td>\n",
              "      <td>2.000000</td>\n",
              "      <td>20.125000</td>\n",
              "      <td>0.000000</td>\n",
              "      <td>0.000000</td>\n",
              "      <td>7.910400</td>\n",
              "    </tr>\n",
              "    <tr>\n",
              "      <th>50%</th>\n",
              "      <td>446.000000</td>\n",
              "      <td>0.000000</td>\n",
              "      <td>3.000000</td>\n",
              "      <td>28.000000</td>\n",
              "      <td>0.000000</td>\n",
              "      <td>0.000000</td>\n",
              "      <td>14.454200</td>\n",
              "    </tr>\n",
              "    <tr>\n",
              "      <th>75%</th>\n",
              "      <td>668.500000</td>\n",
              "      <td>1.000000</td>\n",
              "      <td>3.000000</td>\n",
              "      <td>38.000000</td>\n",
              "      <td>1.000000</td>\n",
              "      <td>0.000000</td>\n",
              "      <td>31.000000</td>\n",
              "    </tr>\n",
              "    <tr>\n",
              "      <th>max</th>\n",
              "      <td>891.000000</td>\n",
              "      <td>1.000000</td>\n",
              "      <td>3.000000</td>\n",
              "      <td>80.000000</td>\n",
              "      <td>8.000000</td>\n",
              "      <td>6.000000</td>\n",
              "      <td>512.329200</td>\n",
              "    </tr>\n",
              "  </tbody>\n",
              "</table>\n",
              "</div>"
            ],
            "text/plain": [
              "       PassengerId    Survived      Pclass  ...       SibSp       Parch        Fare\n",
              "count   891.000000  891.000000  891.000000  ...  891.000000  891.000000  891.000000\n",
              "mean    446.000000    0.383838    2.308642  ...    0.523008    0.381594   32.204208\n",
              "std     257.353842    0.486592    0.836071  ...    1.102743    0.806057   49.693429\n",
              "min       1.000000    0.000000    1.000000  ...    0.000000    0.000000    0.000000\n",
              "25%     223.500000    0.000000    2.000000  ...    0.000000    0.000000    7.910400\n",
              "50%     446.000000    0.000000    3.000000  ...    0.000000    0.000000   14.454200\n",
              "75%     668.500000    1.000000    3.000000  ...    1.000000    0.000000   31.000000\n",
              "max     891.000000    1.000000    3.000000  ...    8.000000    6.000000  512.329200\n",
              "\n",
              "[8 rows x 7 columns]"
            ]
          },
          "metadata": {
            "tags": []
          },
          "execution_count": 395
        }
      ]
    },
    {
      "cell_type": "markdown",
      "metadata": {
        "id": "jJS5kmlG7win",
        "colab_type": "text"
      },
      "source": [
        "**Number of Companions vs Survival**\n",
        "\n",
        "Let's add a Companion column to indicate if the number of companions the person has."
      ]
    },
    {
      "cell_type": "code",
      "metadata": {
        "id": "bpXkJk1QuoJN",
        "colab_type": "code",
        "outputId": "3e184968-84f8-4883-d361-23f5749da3cb",
        "colab": {
          "base_uri": "https://localhost:8080/",
          "height": 204
        }
      },
      "source": [
        "df['Companion'] = df['SibSp'] + df['Parch']\n",
        "df.head()"
      ],
      "execution_count": 396,
      "outputs": [
        {
          "output_type": "execute_result",
          "data": {
            "text/html": [
              "<div>\n",
              "<style scoped>\n",
              "    .dataframe tbody tr th:only-of-type {\n",
              "        vertical-align: middle;\n",
              "    }\n",
              "\n",
              "    .dataframe tbody tr th {\n",
              "        vertical-align: top;\n",
              "    }\n",
              "\n",
              "    .dataframe thead th {\n",
              "        text-align: right;\n",
              "    }\n",
              "</style>\n",
              "<table border=\"1\" class=\"dataframe\">\n",
              "  <thead>\n",
              "    <tr style=\"text-align: right;\">\n",
              "      <th></th>\n",
              "      <th>PassengerId</th>\n",
              "      <th>Survived</th>\n",
              "      <th>Pclass</th>\n",
              "      <th>Name</th>\n",
              "      <th>Sex</th>\n",
              "      <th>Age</th>\n",
              "      <th>SibSp</th>\n",
              "      <th>Parch</th>\n",
              "      <th>Ticket</th>\n",
              "      <th>Fare</th>\n",
              "      <th>Cabin</th>\n",
              "      <th>Embarked</th>\n",
              "      <th>Companion</th>\n",
              "    </tr>\n",
              "  </thead>\n",
              "  <tbody>\n",
              "    <tr>\n",
              "      <th>0</th>\n",
              "      <td>1</td>\n",
              "      <td>0</td>\n",
              "      <td>3</td>\n",
              "      <td>Braund, Mr. Owen Harris</td>\n",
              "      <td>male</td>\n",
              "      <td>22.0</td>\n",
              "      <td>1</td>\n",
              "      <td>0</td>\n",
              "      <td>A/5 21171</td>\n",
              "      <td>7.2500</td>\n",
              "      <td>NaN</td>\n",
              "      <td>S</td>\n",
              "      <td>1</td>\n",
              "    </tr>\n",
              "    <tr>\n",
              "      <th>1</th>\n",
              "      <td>2</td>\n",
              "      <td>1</td>\n",
              "      <td>1</td>\n",
              "      <td>Cumings, Mrs. John Bradley (Florence Briggs Th...</td>\n",
              "      <td>female</td>\n",
              "      <td>38.0</td>\n",
              "      <td>1</td>\n",
              "      <td>0</td>\n",
              "      <td>PC 17599</td>\n",
              "      <td>71.2833</td>\n",
              "      <td>C85</td>\n",
              "      <td>C</td>\n",
              "      <td>1</td>\n",
              "    </tr>\n",
              "    <tr>\n",
              "      <th>2</th>\n",
              "      <td>3</td>\n",
              "      <td>1</td>\n",
              "      <td>3</td>\n",
              "      <td>Heikkinen, Miss. Laina</td>\n",
              "      <td>female</td>\n",
              "      <td>26.0</td>\n",
              "      <td>0</td>\n",
              "      <td>0</td>\n",
              "      <td>STON/O2. 3101282</td>\n",
              "      <td>7.9250</td>\n",
              "      <td>NaN</td>\n",
              "      <td>S</td>\n",
              "      <td>0</td>\n",
              "    </tr>\n",
              "    <tr>\n",
              "      <th>3</th>\n",
              "      <td>4</td>\n",
              "      <td>1</td>\n",
              "      <td>1</td>\n",
              "      <td>Futrelle, Mrs. Jacques Heath (Lily May Peel)</td>\n",
              "      <td>female</td>\n",
              "      <td>35.0</td>\n",
              "      <td>1</td>\n",
              "      <td>0</td>\n",
              "      <td>113803</td>\n",
              "      <td>53.1000</td>\n",
              "      <td>C123</td>\n",
              "      <td>S</td>\n",
              "      <td>1</td>\n",
              "    </tr>\n",
              "    <tr>\n",
              "      <th>4</th>\n",
              "      <td>5</td>\n",
              "      <td>0</td>\n",
              "      <td>3</td>\n",
              "      <td>Allen, Mr. William Henry</td>\n",
              "      <td>male</td>\n",
              "      <td>35.0</td>\n",
              "      <td>0</td>\n",
              "      <td>0</td>\n",
              "      <td>373450</td>\n",
              "      <td>8.0500</td>\n",
              "      <td>NaN</td>\n",
              "      <td>S</td>\n",
              "      <td>0</td>\n",
              "    </tr>\n",
              "  </tbody>\n",
              "</table>\n",
              "</div>"
            ],
            "text/plain": [
              "   PassengerId  Survived  Pclass  ... Cabin Embarked  Companion\n",
              "0            1         0       3  ...   NaN        S          1\n",
              "1            2         1       1  ...   C85        C          1\n",
              "2            3         1       3  ...   NaN        S          0\n",
              "3            4         1       1  ...  C123        S          1\n",
              "4            5         0       3  ...   NaN        S          0\n",
              "\n",
              "[5 rows x 13 columns]"
            ]
          },
          "metadata": {
            "tags": []
          },
          "execution_count": 396
        }
      ]
    },
    {
      "cell_type": "code",
      "metadata": {
        "id": "qymgHDt3u5v8",
        "colab_type": "code",
        "outputId": "1198e219-6784-4fff-95c1-2cf99372da71",
        "colab": {
          "base_uri": "https://localhost:8080/",
          "height": 390
        }
      },
      "source": [
        "summ = df[['Companion', 'Survived']].groupby(['Companion'], as_index=False).agg(['mean', 'count'], as_index=False)\n",
        "summ"
      ],
      "execution_count": 397,
      "outputs": [
        {
          "output_type": "execute_result",
          "data": {
            "text/html": [
              "<div>\n",
              "<style scoped>\n",
              "    .dataframe tbody tr th:only-of-type {\n",
              "        vertical-align: middle;\n",
              "    }\n",
              "\n",
              "    .dataframe tbody tr th {\n",
              "        vertical-align: top;\n",
              "    }\n",
              "\n",
              "    .dataframe thead tr th {\n",
              "        text-align: left;\n",
              "    }\n",
              "\n",
              "    .dataframe thead tr:last-of-type th {\n",
              "        text-align: right;\n",
              "    }\n",
              "</style>\n",
              "<table border=\"1\" class=\"dataframe\">\n",
              "  <thead>\n",
              "    <tr>\n",
              "      <th></th>\n",
              "      <th colspan=\"2\" halign=\"left\">Survived</th>\n",
              "    </tr>\n",
              "    <tr>\n",
              "      <th></th>\n",
              "      <th>mean</th>\n",
              "      <th>count</th>\n",
              "    </tr>\n",
              "    <tr>\n",
              "      <th>Companion</th>\n",
              "      <th></th>\n",
              "      <th></th>\n",
              "    </tr>\n",
              "  </thead>\n",
              "  <tbody>\n",
              "    <tr>\n",
              "      <th>0</th>\n",
              "      <td>0.303538</td>\n",
              "      <td>537</td>\n",
              "    </tr>\n",
              "    <tr>\n",
              "      <th>1</th>\n",
              "      <td>0.552795</td>\n",
              "      <td>161</td>\n",
              "    </tr>\n",
              "    <tr>\n",
              "      <th>2</th>\n",
              "      <td>0.578431</td>\n",
              "      <td>102</td>\n",
              "    </tr>\n",
              "    <tr>\n",
              "      <th>3</th>\n",
              "      <td>0.724138</td>\n",
              "      <td>29</td>\n",
              "    </tr>\n",
              "    <tr>\n",
              "      <th>4</th>\n",
              "      <td>0.200000</td>\n",
              "      <td>15</td>\n",
              "    </tr>\n",
              "    <tr>\n",
              "      <th>5</th>\n",
              "      <td>0.136364</td>\n",
              "      <td>22</td>\n",
              "    </tr>\n",
              "    <tr>\n",
              "      <th>6</th>\n",
              "      <td>0.333333</td>\n",
              "      <td>12</td>\n",
              "    </tr>\n",
              "    <tr>\n",
              "      <th>7</th>\n",
              "      <td>0.000000</td>\n",
              "      <td>6</td>\n",
              "    </tr>\n",
              "    <tr>\n",
              "      <th>10</th>\n",
              "      <td>0.000000</td>\n",
              "      <td>7</td>\n",
              "    </tr>\n",
              "  </tbody>\n",
              "</table>\n",
              "</div>"
            ],
            "text/plain": [
              "           Survived      \n",
              "               mean count\n",
              "Companion                \n",
              "0          0.303538   537\n",
              "1          0.552795   161\n",
              "2          0.578431   102\n",
              "3          0.724138    29\n",
              "4          0.200000    15\n",
              "5          0.136364    22\n",
              "6          0.333333    12\n",
              "7          0.000000     6\n",
              "10         0.000000     7"
            ]
          },
          "metadata": {
            "tags": []
          },
          "execution_count": 397
        }
      ]
    },
    {
      "cell_type": "code",
      "metadata": {
        "id": "ZaBQd_xH2BYL",
        "colab_type": "code",
        "outputId": "212ba637-e1da-42c0-f69b-f0f2ebaefe9b",
        "colab": {
          "base_uri": "https://localhost:8080/",
          "height": 315
        }
      },
      "source": [
        "pd.crosstab(df['Companion'], df['Survived'], normalize='index') \\\n",
        "  .plot(kind='bar', stacked=True, title=\"Survived by Number of Companion (%)\")"
      ],
      "execution_count": 398,
      "outputs": [
        {
          "output_type": "execute_result",
          "data": {
            "text/plain": [
              "<matplotlib.axes._subplots.AxesSubplot at 0x7fde29decda0>"
            ]
          },
          "metadata": {
            "tags": []
          },
          "execution_count": 398
        },
        {
          "output_type": "display_data",
          "data": {
            "image/png": "[encoded data removed]",
            "text/plain": [
              "<Figure size 432x288 with 1 Axes>"
            ]
          },
          "metadata": {
            "tags": [],
            "needs_background": "light"
          }
        }
      ]
    },
    {
      "cell_type": "markdown",
      "metadata": {
        "id": "r65tacUmjsb2",
        "colab_type": "text"
      },
      "source": [
        "Most of the people in the subset of data recorded were alone (537 people), and the survival rate increases as the number of companion increases to up to 3, and decreases after having more than 3 companions.\n",
        "\n",
        "This table also indicates that the people who have the highest survival chances (72%) have a family size of 3, which is a medium size family"
      ]
    },
    {
      "cell_type": "code",
      "metadata": {
        "id": "GgyBNAcTYhD6",
        "colab_type": "code",
        "outputId": "50bad20b-b8a1-49b1-807f-3fbbbc796ba0",
        "colab": {
          "base_uri": "https://localhost:8080/",
          "height": 296
        }
      },
      "source": [
        "sns.barplot(x=summ.index, y=summ['Survived']['mean'])"
      ],
      "execution_count": 399,
      "outputs": [
        {
          "output_type": "execute_result",
          "data": {
            "text/plain": [
              "<matplotlib.axes._subplots.AxesSubplot at 0x7fde28620a20>"
            ]
          },
          "metadata": {
            "tags": []
          },
          "execution_count": 399
        },
        {
          "output_type": "display_data",
          "data": {
            "image/png": "[encoded data removed]",
            "text/plain": [
              "<Figure size 432x288 with 1 Axes>"
            ]
          },
          "metadata": {
            "tags": [],
            "needs_background": "light"
          }
        }
      ]
    },
    {
      "cell_type": "markdown",
      "metadata": {
        "id": "sVRhQt4mlRqV",
        "colab_type": "text"
      },
      "source": [
        "The chart above shows that as the number of companions increases (but not more than 3), the chances of survival also increases. However, this trend does not follow the same pattern once the number of companions is more than 3.\n",
        "\n",
        "This shows that the number of companions has a non-linear relationship with the survival rate."
      ]
    },
    {
      "cell_type": "markdown",
      "metadata": {
        "id": "KLMBkqu58D4h",
        "colab_type": "text"
      },
      "source": [
        "**Ticket Class vs Survival**"
      ]
    },
    {
      "cell_type": "code",
      "metadata": {
        "id": "P7AxLCnkx1zU",
        "colab_type": "code",
        "outputId": "2a3913e0-da96-408f-f68e-316c0bf523e6",
        "colab": {
          "base_uri": "https://localhost:8080/",
          "height": 204
        }
      },
      "source": [
        "df[['Pclass', 'Survived']].groupby(['Pclass']).agg(['mean', 'count'])"
      ],
      "execution_count": 400,
      "outputs": [
        {
          "output_type": "execute_result",
          "data": {
            "text/html": [
              "<div>\n",
              "<style scoped>\n",
              "    .dataframe tbody tr th:only-of-type {\n",
              "        vertical-align: middle;\n",
              "    }\n",
              "\n",
              "    .dataframe tbody tr th {\n",
              "        vertical-align: top;\n",
              "    }\n",
              "\n",
              "    .dataframe thead tr th {\n",
              "        text-align: left;\n",
              "    }\n",
              "\n",
              "    .dataframe thead tr:last-of-type th {\n",
              "        text-align: right;\n",
              "    }\n",
              "</style>\n",
              "<table border=\"1\" class=\"dataframe\">\n",
              "  <thead>\n",
              "    <tr>\n",
              "      <th></th>\n",
              "      <th colspan=\"2\" halign=\"left\">Survived</th>\n",
              "    </tr>\n",
              "    <tr>\n",
              "      <th></th>\n",
              "      <th>mean</th>\n",
              "      <th>count</th>\n",
              "    </tr>\n",
              "    <tr>\n",
              "      <th>Pclass</th>\n",
              "      <th></th>\n",
              "      <th></th>\n",
              "    </tr>\n",
              "  </thead>\n",
              "  <tbody>\n",
              "    <tr>\n",
              "      <th>1</th>\n",
              "      <td>0.629630</td>\n",
              "      <td>216</td>\n",
              "    </tr>\n",
              "    <tr>\n",
              "      <th>2</th>\n",
              "      <td>0.472826</td>\n",
              "      <td>184</td>\n",
              "    </tr>\n",
              "    <tr>\n",
              "      <th>3</th>\n",
              "      <td>0.242363</td>\n",
              "      <td>491</td>\n",
              "    </tr>\n",
              "  </tbody>\n",
              "</table>\n",
              "</div>"
            ],
            "text/plain": [
              "        Survived      \n",
              "            mean count\n",
              "Pclass                \n",
              "1       0.629630   216\n",
              "2       0.472826   184\n",
              "3       0.242363   491"
            ]
          },
          "metadata": {
            "tags": []
          },
          "execution_count": 400
        }
      ]
    },
    {
      "cell_type": "markdown",
      "metadata": {
        "id": "1-ikBKHcmQYd",
        "colab_type": "text"
      },
      "source": [
        "This result suggests that higher the Ticket Class purchased, higher the survival rate. "
      ]
    },
    {
      "cell_type": "markdown",
      "metadata": {
        "id": "IqD1KspQ8Wf_",
        "colab_type": "text"
      },
      "source": [
        "**Gender vs Survival**"
      ]
    },
    {
      "cell_type": "code",
      "metadata": {
        "id": "jXIeo94Gx14T",
        "colab_type": "code",
        "outputId": "38c2ce79-34ee-4249-ba08-c9d0b7735f49",
        "colab": {
          "base_uri": "https://localhost:8080/",
          "height": 173
        }
      },
      "source": [
        "df[['Sex', 'Survived']].groupby(['Sex']).agg(['mean', 'count'])"
      ],
      "execution_count": 401,
      "outputs": [
        {
          "output_type": "execute_result",
          "data": {
            "text/html": [
              "<div>\n",
              "<style scoped>\n",
              "    .dataframe tbody tr th:only-of-type {\n",
              "        vertical-align: middle;\n",
              "    }\n",
              "\n",
              "    .dataframe tbody tr th {\n",
              "        vertical-align: top;\n",
              "    }\n",
              "\n",
              "    .dataframe thead tr th {\n",
              "        text-align: left;\n",
              "    }\n",
              "\n",
              "    .dataframe thead tr:last-of-type th {\n",
              "        text-align: right;\n",
              "    }\n",
              "</style>\n",
              "<table border=\"1\" class=\"dataframe\">\n",
              "  <thead>\n",
              "    <tr>\n",
              "      <th></th>\n",
              "      <th colspan=\"2\" halign=\"left\">Survived</th>\n",
              "    </tr>\n",
              "    <tr>\n",
              "      <th></th>\n",
              "      <th>mean</th>\n",
              "      <th>count</th>\n",
              "    </tr>\n",
              "    <tr>\n",
              "      <th>Sex</th>\n",
              "      <th></th>\n",
              "      <th></th>\n",
              "    </tr>\n",
              "  </thead>\n",
              "  <tbody>\n",
              "    <tr>\n",
              "      <th>female</th>\n",
              "      <td>0.742038</td>\n",
              "      <td>314</td>\n",
              "    </tr>\n",
              "    <tr>\n",
              "      <th>male</th>\n",
              "      <td>0.188908</td>\n",
              "      <td>577</td>\n",
              "    </tr>\n",
              "  </tbody>\n",
              "</table>\n",
              "</div>"
            ],
            "text/plain": [
              "        Survived      \n",
              "            mean count\n",
              "Sex                   \n",
              "female  0.742038   314\n",
              "male    0.188908   577"
            ]
          },
          "metadata": {
            "tags": []
          },
          "execution_count": 401
        }
      ]
    },
    {
      "cell_type": "markdown",
      "metadata": {
        "id": "wP0Q5ZXqmge4",
        "colab_type": "text"
      },
      "source": [
        "This result suggests that being a female on Titanic has a much higher survival rate! (74% vs 19%)"
      ]
    },
    {
      "cell_type": "markdown",
      "metadata": {
        "id": "1xQCw6DL8iOe",
        "colab_type": "text"
      },
      "source": [
        "**Age vs Survival**"
      ]
    },
    {
      "cell_type": "code",
      "metadata": {
        "id": "X-YLlvKXrzIL",
        "colab_type": "code",
        "outputId": "5ef01757-204e-4b86-d797-76af84f4e2f1",
        "colab": {
          "base_uri": "https://localhost:8080/",
          "height": 85
        }
      },
      "source": [
        "df.groupby(['Survived'])['Age'].mean()\n"
      ],
      "execution_count": 402,
      "outputs": [
        {
          "output_type": "execute_result",
          "data": {
            "text/plain": [
              "Survived\n",
              "0    30.626179\n",
              "1    28.343690\n",
              "Name: Age, dtype: float64"
            ]
          },
          "metadata": {
            "tags": []
          },
          "execution_count": 402
        }
      ]
    },
    {
      "cell_type": "markdown",
      "metadata": {
        "id": "HbTkqlkIo-6K",
        "colab_type": "text"
      },
      "source": [
        "There is not much different in the average age between the survived and not survived people. "
      ]
    },
    {
      "cell_type": "code",
      "metadata": {
        "id": "ochK-8uxhy8e",
        "colab_type": "code",
        "outputId": "436cfae1-3fcb-46de-85d4-d2bb1b327a8f",
        "colab": {
          "base_uri": "https://localhost:8080/",
          "height": 296
        }
      },
      "source": [
        "sns.boxplot(data=df, x='Survived', y='Age')"
      ],
      "execution_count": 403,
      "outputs": [
        {
          "output_type": "execute_result",
          "data": {
            "text/plain": [
              "<matplotlib.axes._subplots.AxesSubplot at 0x7fde288fa9b0>"
            ]
          },
          "metadata": {
            "tags": []
          },
          "execution_count": 403
        },
        {
          "output_type": "display_data",
          "data": {
            "image/png": "[encoded data removed]",
            "text/plain": [
              "<Figure size 432x288 with 1 Axes>"
            ]
          },
          "metadata": {
            "tags": [],
            "needs_background": "light"
          }
        }
      ]
    },
    {
      "cell_type": "markdown",
      "metadata": {
        "id": "CwIQxM228nNz",
        "colab_type": "text"
      },
      "source": [
        "This plot suggests that the median age is about the same.\n",
        "\n",
        "However, overall, the people who died tend to be older than the people who survived."
      ]
    },
    {
      "cell_type": "markdown",
      "metadata": {
        "id": "5OB1gqaxqIrk",
        "colab_type": "text"
      },
      "source": [
        "Now, let's look at the Age distribution between survived and not survived"
      ]
    },
    {
      "cell_type": "code",
      "metadata": {
        "id": "YplGpmVht0cQ",
        "colab_type": "code",
        "outputId": "d9505a92-1bc6-448a-a0e5-644644ce2505",
        "colab": {
          "base_uri": "https://localhost:8080/",
          "height": 242
        }
      },
      "source": [
        "g = sns.FacetGrid(df, col='Survived')\n",
        "g.map(plt.hist, 'Age', bins=20)"
      ],
      "execution_count": 404,
      "outputs": [
        {
          "output_type": "execute_result",
          "data": {
            "text/plain": [
              "<seaborn.axisgrid.FacetGrid at 0x7fde288ef828>"
            ]
          },
          "metadata": {
            "tags": []
          },
          "execution_count": 404
        },
        {
          "output_type": "display_data",
          "data": {
            "image/png": "[encoded data removed]",
            "text/plain": [
              "<Figure size 432x216 with 2 Axes>"
            ]
          },
          "metadata": {
            "tags": [],
            "needs_background": "light"
          }
        }
      ]
    },
    {
      "cell_type": "markdown",
      "metadata": {
        "id": "SljPXktNocqa",
        "colab_type": "text"
      },
      "source": [
        "On the good side, there were a large number of infants survived. However, there were sadly a lot of young people (20-30 years old) who did not make it.\n",
        "\n",
        "This result shows that higher in age does not always mean higher the survival rate, therefore, this is a non-linear relationship between Age and Survival"
      ]
    },
    {
      "cell_type": "code",
      "metadata": {
        "id": "ZZT8mHiJeYtO",
        "colab_type": "code",
        "colab": {
          "base_uri": "https://localhost:8080/",
          "height": 542
        },
        "outputId": "675ad3be-5434-4f17-d6fa-2131b66b62a9"
      },
      "source": [
        "fig, (ax_age, ax_age_all) = plt.subplots(2, 1, figsize=(20,8))\n",
        "\n",
        "df_age = df[['Age', 'Survived']].dropna();\n",
        "df_age.loc[ df_age['Age'] <= 16, 'Age']                         = 0\n",
        "df_age.loc[(df_age['Age'] > 16) & (df_age['Age'] <= 35), 'Age'] = 1\n",
        "df_age.loc[(df_age['Age'] > 35) & (df_age['Age'] <= 50), 'Age'] = 2\n",
        "df_age.loc[(df_age['Age'] > 50) & (df_age['Age'] <= 65), 'Age'] = 3\n",
        "df_age.loc[ df_age['Age'] > 65, 'Age']                          = 4\n",
        "\n",
        "df_age.groupby('Age')['Age'].count()\n",
        "\n",
        "age_plot = pd.crosstab(df_age[\"Age\"], df_age[\"Survived\"], normalize='index')\n",
        "age_plot.plot(kind='bar', stacked=True, title='Age vs Survival', ax=ax_age)\n",
        "\n",
        "ax_age_all_plot = pd.crosstab(df[\"Age\"], df[\"Survived\"], normalize='index')\n",
        "ax_age_all_plot.plot(kind='bar', stacked=True, title='Age vs Survival', ax=ax_age_all)"
      ],
      "execution_count": 427,
      "outputs": [
        {
          "output_type": "execute_result",
          "data": {
            "text/plain": [
              "<matplotlib.axes._subplots.AxesSubplot at 0x7fde25e054a8>"
            ]
          },
          "metadata": {
            "tags": []
          },
          "execution_count": 427
        },
        {
          "output_type": "display_data",
          "data": {
            "image/png": "[encoded data removed]",
            "text/plain": [
              "<Figure size 1440x576 with 2 Axes>"
            ]
          },
          "metadata": {
            "tags": [],
            "needs_background": "light"
          }
        }
      ]
    },
    {
      "cell_type": "markdown",
      "metadata": {
        "id": "2Q5fSKHjg9rN",
        "colab_type": "text"
      },
      "source": [
        "This result suggests that the infants were very likely to survive, and the chances remains high until 15 years of age. The chances goes down to about 40% for people between young to middle age, and it increases for people older than middle age (about 45 years old) and just before the old age (about 65 years old). The older people (above 65 years old) have the lowest survival rate."
      ]
    },
    {
      "cell_type": "markdown",
      "metadata": {
        "id": "9LkBUfg_8vpK",
        "colab_type": "text"
      },
      "source": [
        "**Fare vs Survival analysis**\n",
        "\n",
        "Let's group the Fare into 4 different categories, with 0 being the lowest Fare paid, and 3 being the highest."
      ]
    },
    {
      "cell_type": "code",
      "metadata": {
        "id": "r1-UAomcoDTJ",
        "colab_type": "code",
        "outputId": "3b4003bc-5f58-4ef9-d6e6-3d6dd948835b",
        "colab": {
          "base_uri": "https://localhost:8080/",
          "height": 204
        }
      },
      "source": [
        "# Let's group the Fare in different categories\n",
        "df.loc[ df['Fare'] <= 10, 'Fare']                           = 0\n",
        "df.loc[(df['Fare'] > 10) & (df['Fare'] <= 20), 'Fare']      = 1\n",
        "df.loc[(df['Fare'] > 20) & (df['Fare'] <= 30), 'Fare']      = 2\n",
        "df.loc[ df['Fare'] > 30, 'Fare']                            = 3\n",
        "\n",
        "df2 = df[['Survived', 'Fare']]\n",
        "df2.groupby(['Fare'])['Survived'].agg(['mean', 'count'])"
      ],
      "execution_count": 406,
      "outputs": [
        {
          "output_type": "execute_result",
          "data": {
            "text/html": [
              "<div>\n",
              "<style scoped>\n",
              "    .dataframe tbody tr th:only-of-type {\n",
              "        vertical-align: middle;\n",
              "    }\n",
              "\n",
              "    .dataframe tbody tr th {\n",
              "        vertical-align: top;\n",
              "    }\n",
              "\n",
              "    .dataframe thead th {\n",
              "        text-align: right;\n",
              "    }\n",
              "</style>\n",
              "<table border=\"1\" class=\"dataframe\">\n",
              "  <thead>\n",
              "    <tr style=\"text-align: right;\">\n",
              "      <th></th>\n",
              "      <th>mean</th>\n",
              "      <th>count</th>\n",
              "    </tr>\n",
              "    <tr>\n",
              "      <th>Fare</th>\n",
              "      <th></th>\n",
              "      <th></th>\n",
              "    </tr>\n",
              "  </thead>\n",
              "  <tbody>\n",
              "    <tr>\n",
              "      <th>0.0</th>\n",
              "      <td>0.199405</td>\n",
              "      <td>336</td>\n",
              "    </tr>\n",
              "    <tr>\n",
              "      <th>1.0</th>\n",
              "      <td>0.424581</td>\n",
              "      <td>179</td>\n",
              "    </tr>\n",
              "    <tr>\n",
              "      <th>2.0</th>\n",
              "      <td>0.443662</td>\n",
              "      <td>142</td>\n",
              "    </tr>\n",
              "    <tr>\n",
              "      <th>3.0</th>\n",
              "      <td>0.581197</td>\n",
              "      <td>234</td>\n",
              "    </tr>\n",
              "  </tbody>\n",
              "</table>\n",
              "</div>"
            ],
            "text/plain": [
              "          mean  count\n",
              "Fare                 \n",
              "0.0   0.199405    336\n",
              "1.0   0.424581    179\n",
              "2.0   0.443662    142\n",
              "3.0   0.581197    234"
            ]
          },
          "metadata": {
            "tags": []
          },
          "execution_count": 406
        }
      ]
    },
    {
      "cell_type": "markdown",
      "metadata": {
        "id": "Uewtq_U185mA",
        "colab_type": "text"
      },
      "source": [
        "This result suggests higher the Fare paid, higher the survival rate, which is sad but makes sense."
      ]
    },
    {
      "cell_type": "markdown",
      "metadata": {
        "id": "3x-Eoh2Y9LLy",
        "colab_type": "text"
      },
      "source": [
        "**Embarked vs Survival**\n",
        "\n",
        "![alt text](https://ipfactly.com/wp-content/uploads/2018/07/14a-titanic_voyage_map.jpeg?31623f)\n",
        "\n",
        "1st port:\n",
        "S: Southampton\n",
        "\n",
        "2nd port:\n",
        "C: Cherbourg\n",
        "\n",
        "3rd port:\n",
        "Q: Queenstown\n"
      ]
    },
    {
      "cell_type": "code",
      "metadata": {
        "id": "FCy5Kj4_2WsB",
        "colab_type": "code",
        "outputId": "ea312774-e580-455e-c833-3e6714d83d80",
        "colab": {
          "base_uri": "https://localhost:8080/",
          "height": 204
        }
      },
      "source": [
        "df[['Survived', 'Embarked']].groupby(['Embarked']).agg(['mean', 'count'])"
      ],
      "execution_count": 407,
      "outputs": [
        {
          "output_type": "execute_result",
          "data": {
            "text/html": [
              "<div>\n",
              "<style scoped>\n",
              "    .dataframe tbody tr th:only-of-type {\n",
              "        vertical-align: middle;\n",
              "    }\n",
              "\n",
              "    .dataframe tbody tr th {\n",
              "        vertical-align: top;\n",
              "    }\n",
              "\n",
              "    .dataframe thead tr th {\n",
              "        text-align: left;\n",
              "    }\n",
              "\n",
              "    .dataframe thead tr:last-of-type th {\n",
              "        text-align: right;\n",
              "    }\n",
              "</style>\n",
              "<table border=\"1\" class=\"dataframe\">\n",
              "  <thead>\n",
              "    <tr>\n",
              "      <th></th>\n",
              "      <th colspan=\"2\" halign=\"left\">Survived</th>\n",
              "    </tr>\n",
              "    <tr>\n",
              "      <th></th>\n",
              "      <th>mean</th>\n",
              "      <th>count</th>\n",
              "    </tr>\n",
              "    <tr>\n",
              "      <th>Embarked</th>\n",
              "      <th></th>\n",
              "      <th></th>\n",
              "    </tr>\n",
              "  </thead>\n",
              "  <tbody>\n",
              "    <tr>\n",
              "      <th>C</th>\n",
              "      <td>0.553571</td>\n",
              "      <td>168</td>\n",
              "    </tr>\n",
              "    <tr>\n",
              "      <th>Q</th>\n",
              "      <td>0.389610</td>\n",
              "      <td>77</td>\n",
              "    </tr>\n",
              "    <tr>\n",
              "      <th>S</th>\n",
              "      <td>0.336957</td>\n",
              "      <td>644</td>\n",
              "    </tr>\n",
              "  </tbody>\n",
              "</table>\n",
              "</div>"
            ],
            "text/plain": [
              "          Survived      \n",
              "              mean count\n",
              "Embarked                \n",
              "C         0.553571   168\n",
              "Q         0.389610    77\n",
              "S         0.336957   644"
            ]
          },
          "metadata": {
            "tags": []
          },
          "execution_count": 407
        }
      ]
    },
    {
      "cell_type": "markdown",
      "metadata": {
        "id": "wMej8qyf-BKo",
        "colab_type": "text"
      },
      "source": [
        "This result shows that most people from the dataset got on-board from Southampton, and they have the lowest survival rate (34%) but not too much different to Queenstown's passengers (39%). The people who got on from Cherbourg have the highest survival rate (55%). \n",
        "\n",
        "This is interesting - is it suggesting that the Southampton people (1st port) were more likely to be pushed to stay in the inner cabin, which reduced their chances to escape? Or if there were other reasons for this result?\n",
        "Let's find it out:"
      ]
    },
    {
      "cell_type": "code",
      "metadata": {
        "id": "FCh8RUeYGhTP",
        "colab_type": "code",
        "colab": {}
      },
      "source": [
        "# label the gender to a number to calculate the male/female ratio later\n",
        "df['Sex'] = df['Sex'].replace('female', 0)\n",
        "df['Sex'] = df['Sex'].replace('male', 1)"
      ],
      "execution_count": 0,
      "outputs": []
    },
    {
      "cell_type": "markdown",
      "metadata": {
        "id": "H_WC3WLTGTXX",
        "colab_type": "text"
      },
      "source": [
        "Compare the other factors associated with the Embarked ports.\n",
        "- Sex\n",
        "- Fare\n",
        "- Companion\n",
        "- Age\n",
        "- Pclass"
      ]
    },
    {
      "cell_type": "code",
      "metadata": {
        "id": "B5mmBESeAIue",
        "colab_type": "code",
        "outputId": "d6ecc04d-7398-48e4-fb39-1e9b89c6a136",
        "colab": {
          "base_uri": "https://localhost:8080/",
          "height": 204
        }
      },
      "source": [
        "summ = df[['Sex', 'Fare', 'Companion', 'Pclass', 'Embarked']] \\\n",
        "        .groupby(['Embarked']) \\\n",
        "        .agg(['mean', 'count'])\n",
        "summ"
      ],
      "execution_count": 409,
      "outputs": [
        {
          "output_type": "execute_result",
          "data": {
            "text/html": [
              "<div>\n",
              "<style scoped>\n",
              "    .dataframe tbody tr th:only-of-type {\n",
              "        vertical-align: middle;\n",
              "    }\n",
              "\n",
              "    .dataframe tbody tr th {\n",
              "        vertical-align: top;\n",
              "    }\n",
              "\n",
              "    .dataframe thead tr th {\n",
              "        text-align: left;\n",
              "    }\n",
              "\n",
              "    .dataframe thead tr:last-of-type th {\n",
              "        text-align: right;\n",
              "    }\n",
              "</style>\n",
              "<table border=\"1\" class=\"dataframe\">\n",
              "  <thead>\n",
              "    <tr>\n",
              "      <th></th>\n",
              "      <th colspan=\"2\" halign=\"left\">Sex</th>\n",
              "      <th colspan=\"2\" halign=\"left\">Fare</th>\n",
              "      <th colspan=\"2\" halign=\"left\">Companion</th>\n",
              "      <th colspan=\"2\" halign=\"left\">Pclass</th>\n",
              "    </tr>\n",
              "    <tr>\n",
              "      <th></th>\n",
              "      <th>mean</th>\n",
              "      <th>count</th>\n",
              "      <th>mean</th>\n",
              "      <th>count</th>\n",
              "      <th>mean</th>\n",
              "      <th>count</th>\n",
              "      <th>mean</th>\n",
              "      <th>count</th>\n",
              "    </tr>\n",
              "    <tr>\n",
              "      <th>Embarked</th>\n",
              "      <th></th>\n",
              "      <th></th>\n",
              "      <th></th>\n",
              "      <th></th>\n",
              "      <th></th>\n",
              "      <th></th>\n",
              "      <th></th>\n",
              "      <th></th>\n",
              "    </tr>\n",
              "  </thead>\n",
              "  <tbody>\n",
              "    <tr>\n",
              "      <th>C</th>\n",
              "      <td>0.565476</td>\n",
              "      <td>168</td>\n",
              "      <td>1.845238</td>\n",
              "      <td>168</td>\n",
              "      <td>0.750000</td>\n",
              "      <td>168</td>\n",
              "      <td>1.886905</td>\n",
              "      <td>168</td>\n",
              "    </tr>\n",
              "    <tr>\n",
              "      <th>Q</th>\n",
              "      <td>0.532468</td>\n",
              "      <td>77</td>\n",
              "      <td>0.480519</td>\n",
              "      <td>77</td>\n",
              "      <td>0.597403</td>\n",
              "      <td>77</td>\n",
              "      <td>2.909091</td>\n",
              "      <td>77</td>\n",
              "    </tr>\n",
              "    <tr>\n",
              "      <th>S</th>\n",
              "      <td>0.684783</td>\n",
              "      <td>644</td>\n",
              "      <td>1.260870</td>\n",
              "      <td>644</td>\n",
              "      <td>0.984472</td>\n",
              "      <td>644</td>\n",
              "      <td>2.350932</td>\n",
              "      <td>644</td>\n",
              "    </tr>\n",
              "  </tbody>\n",
              "</table>\n",
              "</div>"
            ],
            "text/plain": [
              "               Sex            Fare       Companion          Pclass      \n",
              "              mean count      mean count      mean count      mean count\n",
              "Embarked                                                                \n",
              "C         0.565476   168  1.845238   168  0.750000   168  1.886905   168\n",
              "Q         0.532468    77  0.480519    77  0.597403    77  2.909091    77\n",
              "S         0.684783   644  1.260870   644  0.984472   644  2.350932   644"
            ]
          },
          "metadata": {
            "tags": []
          },
          "execution_count": 409
        }
      ]
    },
    {
      "cell_type": "code",
      "metadata": {
        "id": "FMz6-09lSXpT",
        "colab_type": "code",
        "outputId": "3f176d7f-625c-49e5-c33f-7ec5119c46cd",
        "colab": {
          "base_uri": "https://localhost:8080/",
          "height": 312
        }
      },
      "source": [
        "sns.barplot(x=summ.index, y=summ['Sex']['mean'])\n",
        "plt.title('Embarked vs Gender (Male Ratio)')\n",
        "plt.ylabel('Mean - Male Ratio')"
      ],
      "execution_count": 410,
      "outputs": [
        {
          "output_type": "execute_result",
          "data": {
            "text/plain": [
              "Text(0, 0.5, 'Mean - Male Ratio')"
            ]
          },
          "metadata": {
            "tags": []
          },
          "execution_count": 410
        },
        {
          "output_type": "display_data",
          "data": {
            "image/png": "[encoded data removed]",
            "text/plain": [
              "<Figure size 432x288 with 1 Axes>"
            ]
          },
          "metadata": {
            "tags": [],
            "needs_background": "light"
          }
        }
      ]
    },
    {
      "cell_type": "markdown",
      "metadata": {
        "id": "0n2bcm8LT5Wt",
        "colab_type": "text"
      },
      "source": [
        "This result shows that the people who embarked from Southampton has the highest male ratio (68% males), while Queenstown has the lowest male ratio (53% males). Cherbourg has a male ratio of 57%."
      ]
    },
    {
      "cell_type": "code",
      "metadata": {
        "id": "qBKfPqotT9hX",
        "colab_type": "code",
        "outputId": "bc5b615d-61e0-4f7c-c900-876d8a12d857",
        "colab": {
          "base_uri": "https://localhost:8080/",
          "height": 312
        }
      },
      "source": [
        "sns.barplot(x=summ.index, y=summ['Fare']['mean'])\n",
        "plt.title('Embarked vs Fare (in Fare Categories: Higher Fare Category = Higher Fare Paid)')\n",
        "plt.ylabel('Mean - Fare Categories')"
      ],
      "execution_count": 411,
      "outputs": [
        {
          "output_type": "execute_result",
          "data": {
            "text/plain": [
              "Text(0, 0.5, 'Mean - Fare Categories')"
            ]
          },
          "metadata": {
            "tags": []
          },
          "execution_count": 411
        },
        {
          "output_type": "display_data",
          "data": {
            "image/png": "[encoded data removed]",
            "text/plain": [
              "<Figure size 432x288 with 1 Axes>"
            ]
          },
          "metadata": {
            "tags": [],
            "needs_background": "light"
          }
        }
      ]
    },
    {
      "cell_type": "markdown",
      "metadata": {
        "id": "RUcUUrZ_UtnG",
        "colab_type": "text"
      },
      "source": [
        "The chart above suggests that the Cherbourg people have generally paid for much higher fares, while the Queenstown have paid for the lowest fare  on average."
      ]
    },
    {
      "cell_type": "markdown",
      "metadata": {
        "id": "u6jZ29RuKQcT",
        "colab_type": "text"
      },
      "source": [
        "**Different Embarked - Number of Companion vs Survival**\n",
        "\n",
        "How did the number of companion affact the survival rate for different embarking ports?\n",
        "\n",
        "Firstly, we will group the data in 3 Embarked ports:"
      ]
    },
    {
      "cell_type": "code",
      "metadata": {
        "id": "2mH3eojiKCdr",
        "colab_type": "code",
        "colab": {}
      },
      "source": [
        "c_companion = df.loc[df['Embarked']=='C']\n",
        "q_companion = df.loc[df['Embarked']=='Q']\n",
        "s_companion = df.loc[df['Embarked']=='S']"
      ],
      "execution_count": 0,
      "outputs": []
    },
    {
      "cell_type": "code",
      "metadata": {
        "id": "AfQqxxqWSrut",
        "colab_type": "code",
        "outputId": "ad1ee03b-3723-4d14-ce9d-2644e7552308",
        "colab": {
          "base_uri": "https://localhost:8080/",
          "height": 261
        }
      },
      "source": [
        "fig, (ax1, ax2, ax3) = plt.subplots(1, 3, figsize=(16,3))\n",
        "\n",
        "a1 = pd.crosstab(c_companion[\"Companion\"], c_companion[\"Survived\"], normalize='index')\n",
        "a1.plot(kind='bar', stacked=True, title='C', ax=ax1)\n",
        "\n",
        "a2 = pd.crosstab(q_companion[\"Companion\"], q_companion[\"Survived\"], normalize='index')\n",
        "a2.plot(kind='bar', stacked=True, title='Q', ax=ax2)\n",
        "\n",
        "a3 = pd.crosstab(s_companion[\"Companion\"], s_companion[\"Survived\"], normalize='index')\n",
        "a3.plot(kind='bar', stacked=True, title='S', ax=ax3)"
      ],
      "execution_count": 413,
      "outputs": [
        {
          "output_type": "execute_result",
          "data": {
            "text/plain": [
              "<matplotlib.axes._subplots.AxesSubplot at 0x7fde26651208>"
            ]
          },
          "metadata": {
            "tags": []
          },
          "execution_count": 413
        },
        {
          "output_type": "display_data",
          "data": {
            "image/png": "[encoded data removed]",
            "text/plain": [
              "<Figure size 1152x216 with 3 Axes>"
            ]
          },
          "metadata": {
            "tags": [],
            "needs_background": "light"
          }
        }
      ]
    },
    {
      "cell_type": "code",
      "metadata": {
        "id": "n6QocxDwOJbP",
        "colab_type": "code",
        "outputId": "3a8aba38-cf61-4b40-cb9b-0ea821249a1b",
        "colab": {
          "base_uri": "https://localhost:8080/",
          "height": 225
        }
      },
      "source": [
        "g = sns.catplot(x=\"Companion\", y=\"Survived\", col='Embarked', data=df, \n",
        "                kind=\"bar\", height=3, aspect=1.45, col_order=['C','Q','S']);"
      ],
      "execution_count": 414,
      "outputs": [
        {
          "output_type": "display_data",
          "data": {
            "image/png": "[encoded data removed]",
            "text/plain": [
              "<Figure size 939.6x216 with 3 Axes>"
            ]
          },
          "metadata": {
            "tags": [],
            "needs_background": "light"
          }
        }
      ]
    },
    {
      "cell_type": "markdown",
      "metadata": {
        "id": "6F8QmM9MU4dH",
        "colab_type": "text"
      },
      "source": [
        "These charts suggests that there were some large families embarked from Southampton, while the family size of the people embarked from Queenstown and Cherbourg were much smaller."
      ]
    },
    {
      "cell_type": "markdown",
      "metadata": {
        "id": "0R_0Ua-qa1tm",
        "colab_type": "text"
      },
      "source": [
        "**Ticket Class vs Survival**"
      ]
    },
    {
      "cell_type": "code",
      "metadata": {
        "id": "1XKU5IcKVSAn",
        "colab_type": "code",
        "outputId": "85e9f5ec-597e-434a-e5f1-114ab6a4dcbf",
        "colab": {
          "base_uri": "https://localhost:8080/",
          "height": 312
        }
      },
      "source": [
        "sns.barplot(x=summ.index, y=summ['Pclass']['mean'])\n",
        "plt.title('Embarked vs Ticket Class (Lower the number Better the Ticket Class)')\n",
        "plt.ylabel('Mean - Ticket Class')"
      ],
      "execution_count": 415,
      "outputs": [
        {
          "output_type": "execute_result",
          "data": {
            "text/plain": [
              "Text(0, 0.5, 'Mean - Ticket Class')"
            ]
          },
          "metadata": {
            "tags": []
          },
          "execution_count": 415
        },
        {
          "output_type": "display_data",
          "data": {
            "image/png": "[encoded data removed]",
            "text/plain": [
              "<Figure size 432x288 with 1 Axes>"
            ]
          },
          "metadata": {
            "tags": [],
            "needs_background": "light"
          }
        }
      ]
    },
    {
      "cell_type": "markdown",
      "metadata": {
        "id": "Q4I2RQn9Vhgz",
        "colab_type": "text"
      },
      "source": [
        "Clearly, the Cherbourg people have generally paid for the best ticket class, while the Queenstown people on average have bought the worst ticket class."
      ]
    },
    {
      "cell_type": "markdown",
      "metadata": {
        "id": "h79jbOl4Gfoh",
        "colab_type": "text"
      },
      "source": [
        "**Embarked - Summary**\n",
        "\n",
        "\n",
        "This result suggests that the people embarked from Cherbourg were more likely to survive was because there were more females, the family size were small to medium, and they have generally paid for more expensive tickets. "
      ]
    },
    {
      "cell_type": "markdown",
      "metadata": {
        "id": "_ZCBjz3O-gbQ",
        "colab_type": "text"
      },
      "source": [
        "**Status vs Survival**\n",
        "\n",
        "Let's explore the Names to see if the person has a special title or higher status resulted in higher survival rate:"
      ]
    },
    {
      "cell_type": "code",
      "metadata": {
        "id": "2lFxfP-c_CVl",
        "colab_type": "code",
        "outputId": "7e78f47f-be8b-4501-9395-f1888d538638",
        "colab": {
          "base_uri": "https://localhost:8080/",
          "height": 204
        }
      },
      "source": [
        "# =====================\n",
        "def get_title(name):\n",
        "    title_search = re.search(' ([A-Za-z]+)\\.', name)\n",
        "    # If the title exists, extract and return it.\n",
        "    if title_search:\n",
        "        return title_search.group(1)\n",
        "    return \"\"\n",
        "\n",
        "df['Title'] = df['Name'].apply(get_title)\n",
        "df.head()"
      ],
      "execution_count": 416,
      "outputs": [
        {
          "output_type": "execute_result",
          "data": {
            "text/html": [
              "<div>\n",
              "<style scoped>\n",
              "    .dataframe tbody tr th:only-of-type {\n",
              "        vertical-align: middle;\n",
              "    }\n",
              "\n",
              "    .dataframe tbody tr th {\n",
              "        vertical-align: top;\n",
              "    }\n",
              "\n",
              "    .dataframe thead th {\n",
              "        text-align: right;\n",
              "    }\n",
              "</style>\n",
              "<table border=\"1\" class=\"dataframe\">\n",
              "  <thead>\n",
              "    <tr style=\"text-align: right;\">\n",
              "      <th></th>\n",
              "      <th>PassengerId</th>\n",
              "      <th>Survived</th>\n",
              "      <th>Pclass</th>\n",
              "      <th>Name</th>\n",
              "      <th>Sex</th>\n",
              "      <th>Age</th>\n",
              "      <th>SibSp</th>\n",
              "      <th>Parch</th>\n",
              "      <th>Ticket</th>\n",
              "      <th>Fare</th>\n",
              "      <th>Cabin</th>\n",
              "      <th>Embarked</th>\n",
              "      <th>Companion</th>\n",
              "      <th>Title</th>\n",
              "    </tr>\n",
              "  </thead>\n",
              "  <tbody>\n",
              "    <tr>\n",
              "      <th>0</th>\n",
              "      <td>1</td>\n",
              "      <td>0</td>\n",
              "      <td>3</td>\n",
              "      <td>Braund, Mr. Owen Harris</td>\n",
              "      <td>1</td>\n",
              "      <td>22.0</td>\n",
              "      <td>1</td>\n",
              "      <td>0</td>\n",
              "      <td>A/5 21171</td>\n",
              "      <td>0.0</td>\n",
              "      <td>NaN</td>\n",
              "      <td>S</td>\n",
              "      <td>1</td>\n",
              "      <td>Mr</td>\n",
              "    </tr>\n",
              "    <tr>\n",
              "      <th>1</th>\n",
              "      <td>2</td>\n",
              "      <td>1</td>\n",
              "      <td>1</td>\n",
              "      <td>Cumings, Mrs. John Bradley (Florence Briggs Th...</td>\n",
              "      <td>0</td>\n",
              "      <td>38.0</td>\n",
              "      <td>1</td>\n",
              "      <td>0</td>\n",
              "      <td>PC 17599</td>\n",
              "      <td>3.0</td>\n",
              "      <td>C85</td>\n",
              "      <td>C</td>\n",
              "      <td>1</td>\n",
              "      <td>Mrs</td>\n",
              "    </tr>\n",
              "    <tr>\n",
              "      <th>2</th>\n",
              "      <td>3</td>\n",
              "      <td>1</td>\n",
              "      <td>3</td>\n",
              "      <td>Heikkinen, Miss. Laina</td>\n",
              "      <td>0</td>\n",
              "      <td>26.0</td>\n",
              "      <td>0</td>\n",
              "      <td>0</td>\n",
              "      <td>STON/O2. 3101282</td>\n",
              "      <td>0.0</td>\n",
              "      <td>NaN</td>\n",
              "      <td>S</td>\n",
              "      <td>0</td>\n",
              "      <td>Miss</td>\n",
              "    </tr>\n",
              "    <tr>\n",
              "      <th>3</th>\n",
              "      <td>4</td>\n",
              "      <td>1</td>\n",
              "      <td>1</td>\n",
              "      <td>Futrelle, Mrs. Jacques Heath (Lily May Peel)</td>\n",
              "      <td>0</td>\n",
              "      <td>35.0</td>\n",
              "      <td>1</td>\n",
              "      <td>0</td>\n",
              "      <td>113803</td>\n",
              "      <td>3.0</td>\n",
              "      <td>C123</td>\n",
              "      <td>S</td>\n",
              "      <td>1</td>\n",
              "      <td>Mrs</td>\n",
              "    </tr>\n",
              "    <tr>\n",
              "      <th>4</th>\n",
              "      <td>5</td>\n",
              "      <td>0</td>\n",
              "      <td>3</td>\n",
              "      <td>Allen, Mr. William Henry</td>\n",
              "      <td>1</td>\n",
              "      <td>35.0</td>\n",
              "      <td>0</td>\n",
              "      <td>0</td>\n",
              "      <td>373450</td>\n",
              "      <td>0.0</td>\n",
              "      <td>NaN</td>\n",
              "      <td>S</td>\n",
              "      <td>0</td>\n",
              "      <td>Mr</td>\n",
              "    </tr>\n",
              "  </tbody>\n",
              "</table>\n",
              "</div>"
            ],
            "text/plain": [
              "   PassengerId  Survived  Pclass  ... Embarked  Companion  Title\n",
              "0            1         0       3  ...        S          1     Mr\n",
              "1            2         1       1  ...        C          1    Mrs\n",
              "2            3         1       3  ...        S          0   Miss\n",
              "3            4         1       1  ...        S          1    Mrs\n",
              "4            5         0       3  ...        S          0     Mr\n",
              "\n",
              "[5 rows x 14 columns]"
            ]
          },
          "metadata": {
            "tags": []
          },
          "execution_count": 416
        }
      ]
    },
    {
      "cell_type": "code",
      "metadata": {
        "id": "JargNNtOAUaA",
        "colab_type": "code",
        "colab": {}
      },
      "source": [
        "df['Title'] = df['Title'].replace(['Lady', 'Countess','Capt', 'Col','Don', 'Dr', 'Major', 'Rev', 'Sir', 'Jonkheer', 'Dona'], 'Rare')\n",
        "df['Title'] = df['Title'].replace('Mlle', 'Miss')\n",
        "df['Title'] = df['Title'].replace('Ms', 'Miss')\n",
        "df['Title'] = df['Title'].replace('Mme', 'Mrs')"
      ],
      "execution_count": 0,
      "outputs": []
    },
    {
      "cell_type": "code",
      "metadata": {
        "id": "wK-FQ2nEAh4W",
        "colab_type": "code",
        "outputId": "93b9a960-8b19-4d63-e6db-41e5a74d2cbf",
        "colab": {
          "base_uri": "https://localhost:8080/",
          "height": 235
        }
      },
      "source": [
        "df.groupby(['Title'])['Survived'].agg(['mean', 'count'], result_type='expand').sort_values(by='mean', ascending=False)"
      ],
      "execution_count": 418,
      "outputs": [
        {
          "output_type": "execute_result",
          "data": {
            "text/html": [
              "<div>\n",
              "<style scoped>\n",
              "    .dataframe tbody tr th:only-of-type {\n",
              "        vertical-align: middle;\n",
              "    }\n",
              "\n",
              "    .dataframe tbody tr th {\n",
              "        vertical-align: top;\n",
              "    }\n",
              "\n",
              "    .dataframe thead th {\n",
              "        text-align: right;\n",
              "    }\n",
              "</style>\n",
              "<table border=\"1\" class=\"dataframe\">\n",
              "  <thead>\n",
              "    <tr style=\"text-align: right;\">\n",
              "      <th></th>\n",
              "      <th>mean</th>\n",
              "      <th>count</th>\n",
              "    </tr>\n",
              "    <tr>\n",
              "      <th>Title</th>\n",
              "      <th></th>\n",
              "      <th></th>\n",
              "    </tr>\n",
              "  </thead>\n",
              "  <tbody>\n",
              "    <tr>\n",
              "      <th>Mrs</th>\n",
              "      <td>0.793651</td>\n",
              "      <td>126</td>\n",
              "    </tr>\n",
              "    <tr>\n",
              "      <th>Miss</th>\n",
              "      <td>0.702703</td>\n",
              "      <td>185</td>\n",
              "    </tr>\n",
              "    <tr>\n",
              "      <th>Master</th>\n",
              "      <td>0.575000</td>\n",
              "      <td>40</td>\n",
              "    </tr>\n",
              "    <tr>\n",
              "      <th>Rare</th>\n",
              "      <td>0.347826</td>\n",
              "      <td>23</td>\n",
              "    </tr>\n",
              "    <tr>\n",
              "      <th>Mr</th>\n",
              "      <td>0.156673</td>\n",
              "      <td>517</td>\n",
              "    </tr>\n",
              "  </tbody>\n",
              "</table>\n",
              "</div>"
            ],
            "text/plain": [
              "            mean  count\n",
              "Title                  \n",
              "Mrs     0.793651    126\n",
              "Miss    0.702703    185\n",
              "Master  0.575000     40\n",
              "Rare    0.347826     23\n",
              "Mr      0.156673    517"
            ]
          },
          "metadata": {
            "tags": []
          },
          "execution_count": 418
        }
      ]
    },
    {
      "cell_type": "markdown",
      "metadata": {
        "id": "elMfaRM0-sn6",
        "colab_type": "text"
      },
      "source": [
        "THis result suggests that the ladies (especially the married ones) have a much higher survival rate, followed by Master, and people with rare titles. \n",
        "\n",
        "The average men (Mr) were the majority of the people in the dataset (517 people), and have the lowest survival rate.\n",
        "\n",
        "Again, it's sad but it makes sense..."
      ]
    },
    {
      "cell_type": "markdown",
      "metadata": {
        "id": "1xeAwXpv-5Vo",
        "colab_type": "text"
      },
      "source": [
        "**Heatmap to show correlation between Survival and other factors**"
      ]
    },
    {
      "cell_type": "code",
      "metadata": {
        "id": "RsrPu6RdGKk5",
        "colab_type": "code",
        "outputId": "f6f40dc7-c647-471f-f0b1-d79bb43642a8",
        "colab": {
          "base_uri": "https://localhost:8080/",
          "height": 204
        }
      },
      "source": [
        "df.head()"
      ],
      "execution_count": 419,
      "outputs": [
        {
          "output_type": "execute_result",
          "data": {
            "text/html": [
              "<div>\n",
              "<style scoped>\n",
              "    .dataframe tbody tr th:only-of-type {\n",
              "        vertical-align: middle;\n",
              "    }\n",
              "\n",
              "    .dataframe tbody tr th {\n",
              "        vertical-align: top;\n",
              "    }\n",
              "\n",
              "    .dataframe thead th {\n",
              "        text-align: right;\n",
              "    }\n",
              "</style>\n",
              "<table border=\"1\" class=\"dataframe\">\n",
              "  <thead>\n",
              "    <tr style=\"text-align: right;\">\n",
              "      <th></th>\n",
              "      <th>PassengerId</th>\n",
              "      <th>Survived</th>\n",
              "      <th>Pclass</th>\n",
              "      <th>Name</th>\n",
              "      <th>Sex</th>\n",
              "      <th>Age</th>\n",
              "      <th>SibSp</th>\n",
              "      <th>Parch</th>\n",
              "      <th>Ticket</th>\n",
              "      <th>Fare</th>\n",
              "      <th>Cabin</th>\n",
              "      <th>Embarked</th>\n",
              "      <th>Companion</th>\n",
              "      <th>Title</th>\n",
              "    </tr>\n",
              "  </thead>\n",
              "  <tbody>\n",
              "    <tr>\n",
              "      <th>0</th>\n",
              "      <td>1</td>\n",
              "      <td>0</td>\n",
              "      <td>3</td>\n",
              "      <td>Braund, Mr. Owen Harris</td>\n",
              "      <td>1</td>\n",
              "      <td>22.0</td>\n",
              "      <td>1</td>\n",
              "      <td>0</td>\n",
              "      <td>A/5 21171</td>\n",
              "      <td>0.0</td>\n",
              "      <td>NaN</td>\n",
              "      <td>S</td>\n",
              "      <td>1</td>\n",
              "      <td>Mr</td>\n",
              "    </tr>\n",
              "    <tr>\n",
              "      <th>1</th>\n",
              "      <td>2</td>\n",
              "      <td>1</td>\n",
              "      <td>1</td>\n",
              "      <td>Cumings, Mrs. John Bradley (Florence Briggs Th...</td>\n",
              "      <td>0</td>\n",
              "      <td>38.0</td>\n",
              "      <td>1</td>\n",
              "      <td>0</td>\n",
              "      <td>PC 17599</td>\n",
              "      <td>3.0</td>\n",
              "      <td>C85</td>\n",
              "      <td>C</td>\n",
              "      <td>1</td>\n",
              "      <td>Mrs</td>\n",
              "    </tr>\n",
              "    <tr>\n",
              "      <th>2</th>\n",
              "      <td>3</td>\n",
              "      <td>1</td>\n",
              "      <td>3</td>\n",
              "      <td>Heikkinen, Miss. Laina</td>\n",
              "      <td>0</td>\n",
              "      <td>26.0</td>\n",
              "      <td>0</td>\n",
              "      <td>0</td>\n",
              "      <td>STON/O2. 3101282</td>\n",
              "      <td>0.0</td>\n",
              "      <td>NaN</td>\n",
              "      <td>S</td>\n",
              "      <td>0</td>\n",
              "      <td>Miss</td>\n",
              "    </tr>\n",
              "    <tr>\n",
              "      <th>3</th>\n",
              "      <td>4</td>\n",
              "      <td>1</td>\n",
              "      <td>1</td>\n",
              "      <td>Futrelle, Mrs. Jacques Heath (Lily May Peel)</td>\n",
              "      <td>0</td>\n",
              "      <td>35.0</td>\n",
              "      <td>1</td>\n",
              "      <td>0</td>\n",
              "      <td>113803</td>\n",
              "      <td>3.0</td>\n",
              "      <td>C123</td>\n",
              "      <td>S</td>\n",
              "      <td>1</td>\n",
              "      <td>Mrs</td>\n",
              "    </tr>\n",
              "    <tr>\n",
              "      <th>4</th>\n",
              "      <td>5</td>\n",
              "      <td>0</td>\n",
              "      <td>3</td>\n",
              "      <td>Allen, Mr. William Henry</td>\n",
              "      <td>1</td>\n",
              "      <td>35.0</td>\n",
              "      <td>0</td>\n",
              "      <td>0</td>\n",
              "      <td>373450</td>\n",
              "      <td>0.0</td>\n",
              "      <td>NaN</td>\n",
              "      <td>S</td>\n",
              "      <td>0</td>\n",
              "      <td>Mr</td>\n",
              "    </tr>\n",
              "  </tbody>\n",
              "</table>\n",
              "</div>"
            ],
            "text/plain": [
              "   PassengerId  Survived  Pclass  ... Embarked  Companion  Title\n",
              "0            1         0       3  ...        S          1     Mr\n",
              "1            2         1       1  ...        C          1    Mrs\n",
              "2            3         1       3  ...        S          0   Miss\n",
              "3            4         1       1  ...        S          1    Mrs\n",
              "4            5         0       3  ...        S          0     Mr\n",
              "\n",
              "[5 rows x 14 columns]"
            ]
          },
          "metadata": {
            "tags": []
          },
          "execution_count": 419
        }
      ]
    },
    {
      "cell_type": "code",
      "metadata": {
        "id": "sFQMyqHKA_m7",
        "colab_type": "code",
        "outputId": "6e13f708-8618-40e3-ef5f-9cadd66f75f0",
        "colab": {
          "base_uri": "https://localhost:8080/",
          "height": 504
        }
      },
      "source": [
        "plt.figure(figsize=(20,8))\n",
        "\n",
        "f = (\n",
        "\tdf.loc[:, ['Survived','Pclass','Sex','Age','Fare','Companion','Title']]\n",
        "\t# .dropna()\n",
        ").corr()\n",
        "sns.heatmap(f, annot=True, robust=True, square=True)"
      ],
      "execution_count": 420,
      "outputs": [
        {
          "output_type": "execute_result",
          "data": {
            "text/plain": [
              "<matplotlib.axes._subplots.AxesSubplot at 0x7fde263e5f60>"
            ]
          },
          "metadata": {
            "tags": []
          },
          "execution_count": 420
        },
        {
          "output_type": "display_data",
          "data": {
            "image/png": "[encoded data removed]",
            "text/plain": [
              "<Figure size 1440x576 with 2 Axes>"
            ]
          },
          "metadata": {
            "tags": [],
            "needs_background": "light"
          }
        }
      ]
    },
    {
      "cell_type": "markdown",
      "metadata": {
        "id": "U9yhvXkm_FFd",
        "colab_type": "text"
      },
      "source": [
        "As expected: \n",
        "  - Against the Survival rate\n",
        "    - Pclass has a negative relationship, meaning lower the Pclass number (higher class), higher the survival rate\n",
        "    - Sex has a negative relationship, meaning the females (with label: 0) has a higher survival rate\n",
        "    - Fare has a positive relationship \n",
        "    - Although the Age and the Companion do not show a strong relationship in the heatmap, it does not mean there is not relationship.\n",
        "      - As discussed above, the relationship with survival rate of these two seems to be non-linear, \n",
        "      - as the people in the middle (not too young or too old, medium size family) have a higher survival rate."
      ]
    },
    {
      "cell_type": "markdown",
      "metadata": {
        "id": "hxlDUE7mc2Xq",
        "colab_type": "text"
      },
      "source": [
        "**Summary**\n",
        "\n",
        "- The infants were most likely to survive, followed by the young people (less than 15 years old), then the people after the middle age and just before the old age (about 46 to 65 years old - possibly with higher status and more wealth), and then the young and/or adults (about 16 to 45 years old). The old people (more than about 66 years old) have the lowest survival rate.\n",
        "- The people who have purchased the more expensive tickets have a much higher chance to survive than the ones who bought cheaper tickets.\n",
        "- Females (especially the married ones) have the highest survival rate, followed by the people with special titles (possibly higher status). The Mr. have the lowest survival rate.\n",
        "- The people with a small to medium sized family was more likely to survive than the ones with a large family (with a total number of companions of more than 3).\n",
        "- The people embarked from Cherbourg have the highest survival rate, followed by Queenstown, Southampton."
      ]
    }
  ]
}